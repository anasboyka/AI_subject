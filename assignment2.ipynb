{
  "nbformat": 4,
  "nbformat_minor": 0,
  "metadata": {
    "colab": {
      "name": "assignment2.ipynb",
      "provenance": [],
      "collapsed_sections": [],
      "authorship_tag": "ABX9TyMzHedj2UTewVhet33zVYHS",
      "include_colab_link": true
    },
    "kernelspec": {
      "name": "python3",
      "display_name": "Python 3"
    },
    "language_info": {
      "name": "python"
    }
  },
  "cells": [
    {
      "cell_type": "markdown",
      "metadata": {
        "id": "view-in-github",
        "colab_type": "text"
      },
      "source": [
        "<a href=\"https://colab.research.google.com/github/anasboyka/AI_subject/blob/master/assignment2.ipynb\" target=\"_parent\"><img src=\"https://colab.research.google.com/assets/colab-badge.svg\" alt=\"Open In Colab\"/></a>"
      ]
    },
    {
      "cell_type": "code",
      "metadata": {
        "colab": {
          "base_uri": "https://localhost:8080/"
        },
        "id": "ciPcEd3XkOWK",
        "outputId": "bdb9eaef-72db-4d8f-b73d-bea212649d85"
      },
      "source": [
        "#task 1\n",
        "#download dataset into your notebook\n",
        "! wget \"https://github.com/faizuddin/IBB31103/raw/e1fd7da648d1b2f53d068c376ecbf0938bc58e21/stock_assignment.csv.zip\""
      ],
      "execution_count": 39,
      "outputs": [
        {
          "output_type": "stream",
          "name": "stdout",
          "text": [
            "--2021-11-20 16:14:23--  https://github.com/faizuddin/IBB31103/raw/e1fd7da648d1b2f53d068c376ecbf0938bc58e21/stock_assignment.csv.zip\n",
            "Resolving github.com (github.com)... 140.82.113.4\n",
            "Connecting to github.com (github.com)|140.82.113.4|:443... connected.\n",
            "HTTP request sent, awaiting response... 302 Found\n",
            "Location: https://raw.githubusercontent.com/faizuddin/IBB31103/e1fd7da648d1b2f53d068c376ecbf0938bc58e21/stock_assignment.csv.zip [following]\n",
            "--2021-11-20 16:14:23--  https://raw.githubusercontent.com/faizuddin/IBB31103/e1fd7da648d1b2f53d068c376ecbf0938bc58e21/stock_assignment.csv.zip\n",
            "Resolving raw.githubusercontent.com (raw.githubusercontent.com)... 185.199.108.133, 185.199.109.133, 185.199.110.133, ...\n",
            "Connecting to raw.githubusercontent.com (raw.githubusercontent.com)|185.199.108.133|:443... connected.\n",
            "HTTP request sent, awaiting response... 200 OK\n",
            "Length: 853 [application/zip]\n",
            "Saving to: ‘stock_assignment.csv.zip’\n",
            "\n",
            "stock_assignment.cs 100%[===================>]     853  --.-KB/s    in 0s      \n",
            "\n",
            "2021-11-20 16:14:23 (12.1 MB/s) - ‘stock_assignment.csv.zip’ saved [853/853]\n",
            "\n"
          ]
        }
      ]
    },
    {
      "cell_type": "code",
      "metadata": {
        "colab": {
          "base_uri": "https://localhost:8080/"
        },
        "id": "Gv9azYJFk-8C",
        "outputId": "8ed43ef1-765e-46dc-d034-53b54cc6f3b7"
      },
      "source": [
        "\n",
        "! unzip \"stock_assignment.csv.zip\""
      ],
      "execution_count": 40,
      "outputs": [
        {
          "output_type": "stream",
          "name": "stdout",
          "text": [
            "Archive:  stock_assignment.csv.zip\n",
            "  inflating: stock_assignment.csv    \n",
            "replace __MACOSX/._stock_assignment.csv? [y]es, [n]o, [A]ll, [N]one, [r]ename: y\n",
            "  inflating: __MACOSX/._stock_assignment.csv  \n"
          ]
        }
      ]
    },
    {
      "cell_type": "code",
      "metadata": {
        "id": "9CUBgYQOl8fK"
      },
      "source": [
        "import pandas as pd\n",
        "df = pd.read_csv(\"stock_assignment.csv\")"
      ],
      "execution_count": 41,
      "outputs": []
    },
    {
      "cell_type": "code",
      "metadata": {
        "colab": {
          "base_uri": "https://localhost:8080/",
          "height": 206
        },
        "id": "rRviXk4qqOAK",
        "outputId": "7111c5cf-b00b-414c-b754-678fffb08dc9"
      },
      "source": [
        "df.head(5)"
      ],
      "execution_count": 42,
      "outputs": [
        {
          "output_type": "execute_result",
          "data": {
            "text/html": [
              "<div>\n",
              "<style scoped>\n",
              "    .dataframe tbody tr th:only-of-type {\n",
              "        vertical-align: middle;\n",
              "    }\n",
              "\n",
              "    .dataframe tbody tr th {\n",
              "        vertical-align: top;\n",
              "    }\n",
              "\n",
              "    .dataframe thead th {\n",
              "        text-align: right;\n",
              "    }\n",
              "</style>\n",
              "<table border=\"1\" class=\"dataframe\">\n",
              "  <thead>\n",
              "    <tr style=\"text-align: right;\">\n",
              "      <th></th>\n",
              "      <th>Year</th>\n",
              "      <th>Month</th>\n",
              "      <th>Interest Rate</th>\n",
              "      <th>Unemployment Rate</th>\n",
              "      <th>Stock Index Price</th>\n",
              "    </tr>\n",
              "  </thead>\n",
              "  <tbody>\n",
              "    <tr>\n",
              "      <th>0</th>\n",
              "      <td>2017</td>\n",
              "      <td>12</td>\n",
              "      <td>2.75</td>\n",
              "      <td>5.3</td>\n",
              "      <td>1464</td>\n",
              "    </tr>\n",
              "    <tr>\n",
              "      <th>1</th>\n",
              "      <td>2017</td>\n",
              "      <td>11</td>\n",
              "      <td>2.50</td>\n",
              "      <td>5.3</td>\n",
              "      <td>1394</td>\n",
              "    </tr>\n",
              "    <tr>\n",
              "      <th>2</th>\n",
              "      <td>2017</td>\n",
              "      <td>10</td>\n",
              "      <td>2.50</td>\n",
              "      <td>5.3</td>\n",
              "      <td>1357</td>\n",
              "    </tr>\n",
              "    <tr>\n",
              "      <th>3</th>\n",
              "      <td>2017</td>\n",
              "      <td>9</td>\n",
              "      <td>2.50</td>\n",
              "      <td>5.3</td>\n",
              "      <td>1293</td>\n",
              "    </tr>\n",
              "    <tr>\n",
              "      <th>4</th>\n",
              "      <td>2017</td>\n",
              "      <td>8</td>\n",
              "      <td>2.50</td>\n",
              "      <td>5.4</td>\n",
              "      <td>1256</td>\n",
              "    </tr>\n",
              "  </tbody>\n",
              "</table>\n",
              "</div>"
            ],
            "text/plain": [
              "   Year  Month  Interest Rate  Unemployment Rate  Stock Index Price\n",
              "0  2017     12           2.75                5.3               1464\n",
              "1  2017     11           2.50                5.3               1394\n",
              "2  2017     10           2.50                5.3               1357\n",
              "3  2017      9           2.50                5.3               1293\n",
              "4  2017      8           2.50                5.4               1256"
            ]
          },
          "metadata": {},
          "execution_count": 42
        }
      ]
    },
    {
      "cell_type": "code",
      "metadata": {
        "colab": {
          "base_uri": "https://localhost:8080/",
          "height": 335
        },
        "id": "MT1nvw6krETO",
        "outputId": "01ab9f44-2f0e-49e2-dbb5-f5bbca5c7163"
      },
      "source": [
        "df.hist(column=[\"Stock Index Price\", \"Interest Rate\"])"
      ],
      "execution_count": 43,
      "outputs": [
        {
          "output_type": "execute_result",
          "data": {
            "text/plain": [
              "array([[<matplotlib.axes._subplots.AxesSubplot object at 0x7fd0cd2cf750>,\n",
              "        <matplotlib.axes._subplots.AxesSubplot object at 0x7fd0cd19d190>]],\n",
              "      dtype=object)"
            ]
          },
          "metadata": {},
          "execution_count": 43
        },
        {
          "output_type": "display_data",
          "data": {
            "image/png": "[encoded data removed]",
            "text/plain": [
              "<Figure size 432x288 with 2 Axes>"
            ]
          },
          "metadata": {
            "needs_background": "light"
          }
        }
      ]
    },
    {
      "cell_type": "code",
      "metadata": {
        "colab": {
          "base_uri": "https://localhost:8080/",
          "height": 335
        },
        "id": "l79KFV1uvFZk",
        "outputId": "f0bfeb8c-96e4-4693-f5cb-b8b018d13774"
      },
      "source": [
        "df.hist(column=[\"Stock Index Price\", \"Unemployment Rate\"])"
      ],
      "execution_count": 44,
      "outputs": [
        {
          "output_type": "execute_result",
          "data": {
            "text/plain": [
              "array([[<matplotlib.axes._subplots.AxesSubplot object at 0x7fd0cd22ce50>,\n",
              "        <matplotlib.axes._subplots.AxesSubplot object at 0x7fd0cd10fcd0>]],\n",
              "      dtype=object)"
            ]
          },
          "metadata": {},
          "execution_count": 44
        },
        {
          "output_type": "display_data",
          "data": {
            "image/png": "[encoded data removed]",
            "text/plain": [
              "<Figure size 432x288 with 2 Axes>"
            ]
          },
          "metadata": {
            "needs_background": "light"
          }
        }
      ]
    },
    {
      "cell_type": "code",
      "metadata": {
        "id": "UyjkD-SkvbXl"
      },
      "source": [
        "x = df.drop([\"Month\",\"Year\",\"Stock Index Price\"],axis=1)\n",
        "y = df[\"Stock Index Price\"]"
      ],
      "execution_count": 45,
      "outputs": []
    },
    {
      "cell_type": "code",
      "metadata": {
        "id": "clBa1w0gw8oi"
      },
      "source": [
        "from sklearn.model_selection import train_test_split\n",
        "X_train, X_test, y_train, y_test = train_test_split(x, y, test_size=0.3, random_state=42)\n"
      ],
      "execution_count": 46,
      "outputs": []
    },
    {
      "cell_type": "code",
      "metadata": {
        "id": "07ibUAb2zM0B"
      },
      "source": [
        "from sklearn.linear_model import LinearRegression\n",
        "LR = LinearRegression()\n",
        "mlr = LR.fit(X_train.values,y_train.values)\n"
      ],
      "execution_count": 47,
      "outputs": []
    },
    {
      "cell_type": "code",
      "metadata": {
        "colab": {
          "base_uri": "https://localhost:8080/"
        },
        "id": "Hh96jAKxzOQg",
        "outputId": "ca1968db-7c1d-4d2b-c790-0c37f66f8106"
      },
      "source": [
        "y_pred = mlr.predict(X_test)"
      ],
      "execution_count": 48,
      "outputs": [
        {
          "output_type": "stream",
          "name": "stderr",
          "text": [
            "/usr/local/lib/python3.7/dist-packages/sklearn/base.py:439: UserWarning: X has feature names, but LinearRegression was fitted without feature names\n",
            "  f\"X has feature names, but {self.__class__.__name__} was fitted without\"\n"
          ]
        }
      ]
    },
    {
      "cell_type": "code",
      "metadata": {
        "colab": {
          "base_uri": "https://localhost:8080/"
        },
        "id": "jfi-cIZczTMt",
        "outputId": "a13bf47c-4f37-4adc-e749-ebdb905314f9"
      },
      "source": [
        "from sklearn.metrics import r2_score\n",
        "from sklearn.metrics import mean_squared_error \n",
        "\n",
        "score = r2_score(y_test, y_pred)\n",
        "\n",
        "rmse = mean_squared_error(y_test, y_pred, squared = False)\n",
        "\n",
        "print(\"r2 score: \", score)\n",
        "print(\"RMSE: \", rmse)"
      ],
      "execution_count": 49,
      "outputs": [
        {
          "output_type": "stream",
          "name": "stdout",
          "text": [
            "r2 score:  0.864002429962521\n",
            "RMSE:  71.33253085580233\n"
          ]
        }
      ]
    },
    {
      "cell_type": "code",
      "metadata": {
        "colab": {
          "base_uri": "https://localhost:8080/"
        },
        "id": "EoZv4POV85Ka",
        "outputId": "13be9a37-45da-4555-c76d-8d7ca95d78ba"
      },
      "source": [
        "xInput = [[2.75, 5.3]]\n",
        "yOutput = mlr.predict(xInput)\n",
        "print(yOutput)"
      ],
      "execution_count": 51,
      "outputs": [
        {
          "output_type": "stream",
          "name": "stdout",
          "text": [
            "[1400.41971162]\n"
          ]
        }
      ]
    }
  ]
}